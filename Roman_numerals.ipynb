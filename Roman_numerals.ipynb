{
 "cells": [
  {
   "cell_type": "markdown",
   "metadata": {},
   "source": [
    "# Roman numerals"
   ]
  },
  {
   "cell_type": "markdown",
   "metadata": {},
   "source": [
    "## I. Roman numerals to decimals\n",
    "\n",
    "Write a function which receives a Roman numeral written out as a string, and returns an integer representing the decimal form of the input number. "
   ]
  },
  {
   "cell_type": "code",
   "execution_count": 9,
   "metadata": {},
   "outputs": [],
   "source": [
    "mapping = {\"I\" : 1, \n",
    "           \"V\" : 5,\n",
    "           \"X\" : 10,\n",
    "           \"L\" : 50,\n",
    "           \"C\" : 100,\n",
    "           \"D\" : 500,\n",
    "           \"M\" : 1000}"
   ]
  },
  {
   "cell_type": "code",
   "execution_count": 10,
   "metadata": {},
   "outputs": [],
   "source": [
    "def roman_to_decimal(rom):\n",
    "    dec=mapping[rom[-1]] #присваиваем значение последнего символа в римской записи\n",
    "    #последний символ не проходится в цикле для выполнения проверки значения для обработки цифр 4 и 9\n",
    "    for i in range(len(rom)-1): #запустили цикл по строке, не доходя до последнего символа, обработанного раннее \n",
    "        if(mapping[rom[i]]<mapping.get(rom[i+1])): # выполняем проверку для случая вычитания (вычитание происходит, когда значение\n",
    "            #левого символа меньше, чем правого, например, в записях IV, IX, XL)\n",
    "            dec=dec-mapping[rom[i]]\n",
    "        else:\n",
    "            dec=dec+mapping[rom[i]] #выполняем сложение \n",
    "    \n",
    "    \n",
    "    \n",
    "    \"\"\"Convert a Roman numeral to decimal.\n",
    "    \n",
    "    Parameters\n",
    "    ----------\n",
    "    rom : str\n",
    "        A Roman numeral representing a positive integer.\n",
    "        \n",
    "    Returns\n",
    "    -------\n",
    "    dec : int\n",
    "        The result of conversion of `rom` into a decimal system.\n",
    "    \"\"\"\n",
    "    \n",
    "    return dec\n",
    "   "
   ]
  },
  {
   "cell_type": "markdown",
   "metadata": {},
   "source": [
    "Here are some tests for you to test your code. Your code must pass all of them. You also need to come up with several more tests (your choice)."
   ]
  },
  {
   "cell_type": "code",
   "execution_count": 11,
   "metadata": {},
   "outputs": [
    {
     "name": "stdout",
     "output_type": "stream",
     "text": [
      "True\n",
      "True\n",
      "True\n",
      "True\n",
      "True\n"
     ]
    }
   ],
   "source": [
    "test_pairs = [(\"IX\", 9), (\"XI\", 11), (\"MCCII\", 1202), (\"MMXVIII\", 2018), (\"XLIX\", 49)]\n",
    "\n",
    "for rom, dec in test_pairs:\n",
    "    converted = roman_to_decimal(rom)\n",
    "    print(converted == dec)"
   ]
  },
  {
   "cell_type": "markdown",
   "metadata": {},
   "source": [
    "## II. Decimal numbers to roman numerals.\n",
    "\n",
    "The maximum grade for first task (Roman to decimal) is 7 on the 10-point HSE scale. For extra credit, complete the second task: *given a decimal number, convert it to the Roman form*."
   ]
  },
  {
   "cell_type": "code",
   "execution_count": 13,
   "metadata": {},
   "outputs": [],
   "source": [
    "revermapping = {1 : \"I\", \n",
    "           5 : \"V\",\n",
    "           10 :\"X\",\n",
    "           50 :\"L\",\n",
    "           100: \"C\" ,\n",
    "           500 : \"D\" ,\n",
    "           1000 : \"M\"}\n",
    "\n",
    "#создали новый словарь для удобства \n",
    "\n",
    "\n",
    "\n",
    "\n",
    "def decimal_to_roman(dec):\n",
    "    \"\"\"Convert a decimal to the Roman form.\n",
    "    \n",
    "    Parameters\n",
    "    ----------\n",
    "    dec : int\n",
    "        A positive integer number\n",
    "    \n",
    "    Returns\n",
    "    -------\n",
    "    rom : str\n",
    "        A string representation of a Roman numeral form of `dec`.\n",
    "    \"\"\"\n",
    "    # ...\n",
    "    \n",
    "    cdec=int(dec) #берем копию числа для прохода в цикле \n",
    "    rom=\"\" #присваиваем начальное значение строки \n",
    "    \n",
    "    \n",
    "    i=1   # для отслеживания разряда в числе      \n",
    "    while(cdec>0): #за каждый этап цикла проверяем последнюю цифру \n",
    "        a=cdec%10 #берем последнюю цифру \n",
    "        if(a>0 and a<4):\n",
    "            rom=rom+revermapping[i]*a # обрабатываем цифры 1,2,3 \n",
    "        if(a==4):\n",
    "            rom=rom+revermapping[i*5]+revermapping[i] #обрабатываем 4 \n",
    "        if(a==5):  #обрабатываем 5\n",
    "            rom=rom+revermapping[i*5]\n",
    "        if(a>5 and a<9): #обрабатываем 6,7,8 \n",
    "            rom=rom+revermapping[i]*(a-5)+revermapping[i*5]\n",
    "        if(a==9):\n",
    "            rom=rom+revermapping[i*10]+revermapping[i] #обрабатываем 9\n",
    "        \n",
    "        #используем суммирование строчки\n",
    "        #учитываем порядок суммирования символов для будущего переворота строки \n",
    "        #делаем так, потому что идем от последней цифры в числе \n",
    "   \n",
    "    \n",
    "        i=i*10 #переход на следующий разряд \n",
    "        cdec=cdec//10 #отбрасываем обработанную цифру \n",
    "    \n",
    "    rom=rom[::-1] #переворачиваем строку \n",
    "    \n",
    "    \n",
    "    return rom"
   ]
  },
  {
   "cell_type": "markdown",
   "metadata": {},
   "source": [
    "You need to come up with test cases to show that your conversion works as expected. \n",
    "NB: the conversion is ambiguous in some cases. Any valid conversion is accepted. "
   ]
  },
  {
   "cell_type": "code",
   "execution_count": 14,
   "metadata": {},
   "outputs": [
    {
     "name": "stdout",
     "output_type": "stream",
     "text": [
      "True\n",
      "True\n",
      "True\n",
      "True\n",
      "True\n",
      "True\n",
      "True\n",
      "True\n",
      "True\n",
      "True\n",
      "True\n"
     ]
    }
   ],
   "source": [
    "test_pairs = [(\"IX\", 9), (\"XI\", 11), (\"MCCII\", 1202), (\"MMXVIII\", 2018),\n",
    "              (\"XLIX\", 49), (\"MCMXCVIII\", 1998), (\"MCMXCIV\", 1994), (\"CMLXXIX\", 979), (\"CDXLIV\", 444), (\"MMMDCXLIX\", 3649), (\"L\",50) ]\n",
    "\n",
    "for rom, dec in test_pairs:\n",
    "    converted = decimal_to_roman(dec)\n",
    "    print(converted == rom)"
   ]
  },
  {
   "cell_type": "code",
   "execution_count": null,
   "metadata": {},
   "outputs": [],
   "source": []
  },
  {
   "cell_type": "code",
   "execution_count": null,
   "metadata": {},
   "outputs": [],
   "source": []
  }
 ],
 "metadata": {
  "kernelspec": {
   "display_name": "Python 3",
   "language": "python",
   "name": "python3"
  },
  "language_info": {
   "codemirror_mode": {
    "name": "ipython",
    "version": 3
   },
   "file_extension": ".py",
   "mimetype": "text/x-python",
   "name": "python",
   "nbconvert_exporter": "python",
   "pygments_lexer": "ipython3",
   "version": "3.6.5"
  }
 },
 "nbformat": 4,
 "nbformat_minor": 2
}
